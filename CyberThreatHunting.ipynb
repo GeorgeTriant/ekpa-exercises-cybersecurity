{
  "cells": [
    {
      "cell_type": "markdown",
      "metadata": {
        "colab_type": "text",
        "id": "view-in-github"
      },
      "source": [
        "<a href=\"https://colab.research.google.com/github/kdemertzis/EKPA/blob/main/CyberThreatHunting.ipynb\" target=\"_parent\"><img src=\"https://colab.research.google.com/assets/colab-badge.svg\" alt=\"Open In Colab\"/></a>"
      ]
    },
    {
      "cell_type": "code",
      "execution_count": 1,
      "metadata": {
        "colab": {
          "base_uri": "https://localhost:8080/",
          "height": 214
        },
        "id": "RuoPaiNhvfZf",
        "outputId": "f0620dd8-15e0-4134-88dd-e148ecb75116"
      },
      "outputs": [],
      "source": [
        "\n",
        "# φόρτωση βιβλιοθηκών\n",
        "import pandas as pd\n",
        "from sklearn.ensemble import RandomForestClassifier\n",
        "from sklearn.model_selection import train_test_split\n",
        "from sklearn.metrics import accuracy_score\n",
        "import matplotlib.pyplot as plt\n",
        "import matplotlib.pyplot as plt\n",
        "import seaborn as sns\n",
        "from pylab import rcParams\n",
        "%matplotlib inline\n",
        "\n",
        "# έλεγχος κατανομής κλάσεων\n",
        "sns.set(style='whitegrid', palette='muted', font_scale=1.5)\n",
        "rcParams['figure.figsize'] = 14, 8\n",
        "RANDOM_SEED = 42\n",
        "LABELS = [\"Normal\", \"Fraud\"]\n",
        "\n",
        "# φόρτωση συνόλου δεδομένων\n",
        "url = \"https://raw.githubusercontent.com/nsethi31/Kaggle-Data-Credit-Card-Fraud-Detection/master/creditcard.csv\"\n",
        "data = pd.read_csv(url)\n",
        "\n",
        "# διαγραφή κενών ή μη αριθμητικών τιμών\n",
        "data = data.select_dtypes(include=['float64', 'int64']).dropna()\n",
        "\n",
        "# διαχωρισμός ανεξάρτητων και εξαρτημένων μεταβλητών\n",
        "X = data.drop('Class', axis=1)\n",
        "y = data['Class']\n",
        "\n",
        "# διαχωρισμός συνόλου δεδομένων σε σύνολο εκπαίδευσης και δοκιμών\n",
        "X_train, X_test, y_train, y_test = train_test_split(X, y, test_size=0.2, random_state=RANDOM_SEED)\n",
        "\n",
        "# κατανομή της εξαρτημένης μεταβλητής (class)\n",
        "count_classes = pd.value_counts(data['Class'], sort = True)\n",
        "count_classes.plot(kind = 'bar', rot=0)\n",
        "plt.title(\"Transaction class distribution\")\n",
        "plt.xticks(range(2), LABELS)\n",
        "plt.xlabel(\"Class\")\n",
        "plt.ylabel(\"Frequency\");\n",
        "\n",
        "# δημιουργία Random Forest αλγορίθμου\n",
        "clf = RandomForestClassifier(random_state=RANDOM_SEED)\n",
        "\n",
        "# εκπαίδευση αλγόριθμου\n",
        "clf.fit(X_train, y_train)\n",
        "\n",
        "# πρόβλεψη συνόλου δοκιμής\n",
        "y_pred = clf.predict(X_test)\n",
        "\n",
        "# υπολογισμός μετρικών αξιολόγησης (accuracy, precision, recall, f-score, confusion matrix)\n",
        "from sklearn.metrics import accuracy_score, precision_score, recall_score, f1_score, confusion_matrix\n",
        "print(\"Accuracy Score: \", accuracy_score(y_test, y_pred))\n",
        "print(\"Precision Score: \", precision_score(y_test, y_pred))\n",
        "print(\"Recall Score: \", recall_score(y_test, y_pred))\n",
        "print(\"F1 Score: \", f1_score(y_test, y_pred))\n",
        "print(\"Confusion Matrix: \\n\", confusion_matrix(y_test, y_pred))"
      ]
    }
  ],
  "metadata": {
    "colab": {
      "authorship_tag": "ABX9TyPtnPWW884mV5eEi7O3XoVG",
      "include_colab_link": true,
      "provenance": []
    },
    "kernelspec": {
      "display_name": "Python 3",
      "name": "python3"
    },
    "language_info": {
      "codemirror_mode": {
        "name": "ipython",
        "version": 3
      },
      "file_extension": ".py",
      "mimetype": "text/x-python",
      "name": "python",
      "nbconvert_exporter": "python",
      "pygments_lexer": "ipython3",
      "version": "3.11.8"
    }
  },
  "nbformat": 4,
  "nbformat_minor": 0
}
